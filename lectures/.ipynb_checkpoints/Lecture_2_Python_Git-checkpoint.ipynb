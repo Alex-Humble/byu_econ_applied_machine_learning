{
 "cells": [
  {
   "cell_type": "markdown",
   "metadata": {},
   "source": [
    "## Installing Python\n",
    "\n",
    "I highly recommend installing Python using the [Anaconda distribution](https://conda.io/docs/user-guide/install/index.html). It comes with almost all of the packages we will need for this class and pretty much just works. Windows users should especially be grateful as installing Python on Windows used to be an enormous pain...\n",
    "\n",
    "## IPython vs Python\n",
    "\n",
    "Ipython is what makes Python interactive. Meaning that you can type some code, get some results, and then type some more code. This is very useful for exploring data because you don't always know what you are looking for and it can be annoying to have to run your entire program every time you make changes.\n",
    "\n",
    "## Jupyter Notebooks\n",
    "\n",
    "As you may have noticed, I write all my lectures in jupyter notebooks. These notebooks wrap Ipython with a web editor that allow one to mix code and markdown in one place. While they are not perfect, they offer a lot of benefits for data scientists. I would recommend doing most of your homework in notebooks. To start a notebook, open your terminal, navigate to the folder and type \"jupyter notebook\" then hit enter. That will open up the notebook! Then in the top right click \"New\" and select \"Python 3\" and you should be good to go. \n",
    "\n",
    "There are a lot of things that notebooks can do, but we will not cover them all here. The most basic thing is toggleing a cell type by selecting \"Cell\" from the menu. Then \"Cell Type.\" This allows you to change cells from code to markdown and visa versa.\n",
    "\n",
    "To learn more use Google or here is a [decent guide](https://www.datacamp.com/community/tutorials/tutorial-jupyter-notebook##UseJupyter)\n",
    "\n",
    "## The Terminal\n",
    "\n",
    "Some of you might not be very familiar with the terminal on your computer. I would say it is worth investing some time to learn basic commands. For Mac / Linux users [here](https://computers.tutsplus.com/tutorials/navigating-the-terminal-a-gentle-introduction--mac-3855) is a pretty gentle introduction. I found [something similar](https://www.bleepingcomputer.com/tutorials/windows-command-prompt-introduction/) for Windows, but I am not a Windows user, so I am not sure how good it is. Please feel free to open a pull request if you have a better resource for windows.\n",
    "\n",
    "## Git and GitHub/BitBucket\n",
    "\n",
    "Git is an amazing tool for software development. It allows for pretty easy version control and collaboration.\n",
    "\n",
    "First, install Git by following [this guide](https://www.atlassian.com/git/tutorials/install-git).\n",
    "\n",
    "Then, [learn](https://www.atlassian.com/git/tutorials/what-is-version-control) why it is useful.\n",
    "\n",
    "Lastly, figure out [how to use it](https://www.atlassian.com/git/tutorials/setting-up-a-repository).\n",
    "\n",
    "## Native Python for Science\n",
    "\n",
    "Let's see what Python looks like! First, you will notice that Python makes use of whitespace and does not use ; like some other languages"
   ]
  },
  {
   "cell_type": "code",
   "execution_count": 1,
   "metadata": {},
   "outputs": [
    {
     "name": "stdout",
     "output_type": "stream",
     "text": [
      "15\n"
     ]
    }
   ],
   "source": [
    "x = 5\n",
    "y = 10\n",
    "print(x+y)"
   ]
  },
  {
   "cell_type": "markdown",
   "metadata": {},
   "source": [
    "We will make use of many libraries. Some are pre-installed with Python, even more come with Anaconda, and some we will have to install ourselves. To get a library use an import statement:"
   ]
  },
  {
   "cell_type": "code",
   "execution_count": 2,
   "metadata": {
    "collapsed": true
   },
   "outputs": [],
   "source": [
    "from collections import Counter"
   ]
  },
  {
   "cell_type": "markdown",
   "metadata": {},
   "source": [
    "This command imports the class \"Counter\" from the \"collections\" library. Counter is actually a really useful tool for data scientists. It can count the number of times items appear in collections like lists. Lists are a useful data structure to store data. For example:"
   ]
  },
  {
   "cell_type": "code",
   "execution_count": 4,
   "metadata": {},
   "outputs": [
    {
     "data": {
      "text/plain": [
       "[(22, 3), (25, 2), (24, 2), (30, 1), (26, 1)]"
      ]
     },
     "execution_count": 4,
     "metadata": {},
     "output_type": "execute_result"
    }
   ],
   "source": [
    "marriage_ages = [22, 22, 25, 25, 30, 24, 26, 24, 35, 22]\n",
    "value_counts = Counter(marriage_ages)\n",
    "value_counts.most_common(5)"
   ]
  },
  {
   "cell_type": "markdown",
   "metadata": {},
   "source": [
    "Functions are also very useful."
   ]
  },
  {
   "cell_type": "markdown",
   "metadata": {},
   "source": [
    "## The data science stack\n",
    "\n",
    "\n",
    "Pandas - Provides R like data structures and a high level API to work with data\n",
    "Numpy - Provides fast numerical computing such as arrays and linear algebra\n",
    "Scipy - For scientific computing such as drawing from distributions\n",
    "Matplotlib - For plotting\n",
    "    Seaborn - To make your plots look better\n",
    "Scikit-Learn - For machine learning; great documentation and tutorials\n",
    "Statsmodels - For more traditional statistics"
   ]
  },
  {
   "cell_type": "code",
   "execution_count": null,
   "metadata": {
    "collapsed": true
   },
   "outputs": [],
   "source": []
  }
 ],
 "metadata": {
  "kernelspec": {
   "display_name": "Python 3",
   "language": "python",
   "name": "python3"
  },
  "language_info": {
   "codemirror_mode": {
    "name": "ipython",
    "version": 3
   },
   "file_extension": ".py",
   "mimetype": "text/x-python",
   "name": "python",
   "nbconvert_exporter": "python",
   "pygments_lexer": "ipython3",
   "version": "3.6.1"
  }
 },
 "nbformat": 4,
 "nbformat_minor": 2
}
