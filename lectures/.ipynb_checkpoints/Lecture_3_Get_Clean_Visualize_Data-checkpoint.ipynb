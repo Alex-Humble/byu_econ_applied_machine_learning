{
 "cells": [
  {
   "cell_type": "markdown",
   "metadata": {},
   "source": [
    "## Getting Data\n",
    "\n",
    "### where to find? Kaggle, UCI, AWS, ...\n",
    "\n",
    "### Data files (CSV, Json, Text)\n",
    "\n",
    "### APIs\n",
    "\n",
    "### SQL\n",
    "\n",
    "### Scraping\n",
    "\n",
    "\n",
    "## Cleaning Data\n",
    "\n",
    "### re-scaling\n",
    "\n",
    "### missing - understand why and magintude. Knn vs Median vs ..\n",
    "\n",
    "### outliers\n",
    "\n",
    "### text and categorical\n",
    "\n",
    "### Sklearn pipelines\n",
    "\n",
    "\n",
    "## Describing Data\n",
    "\n",
    "### Pandas describe, info, value_counts, correlation matrix (and limits - Simpson;s paradox, etc. DS f S)\n",
    "\n",
    "### mean, median and percentiles, std_dev\n",
    "\n",
    "### group by and pivot tables, reshape, and cross tab\n",
    "\n",
    "\n",
    "## Visualizing Data\n",
    "\n",
    "### matplotlib and seaborn\n",
    "\n",
    "### Histogram, line, data aware, bar, and scatter\n",
    "\n",
    "### Geo data"
   ]
  },
  {
   "cell_type": "code",
   "execution_count": null,
   "metadata": {
    "collapsed": true
   },
   "outputs": [],
   "source": []
  }
 ],
 "metadata": {
  "kernelspec": {
   "display_name": "Python 3",
   "language": "python",
   "name": "python3"
  },
  "language_info": {
   "codemirror_mode": {
    "name": "ipython",
    "version": 3
   },
   "file_extension": ".py",
   "mimetype": "text/x-python",
   "name": "python",
   "nbconvert_exporter": "python",
   "pygments_lexer": "ipython3",
   "version": "3.5.3"
  }
 },
 "nbformat": 4,
 "nbformat_minor": 2
}
