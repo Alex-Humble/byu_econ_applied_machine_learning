{
 "cells": [
  {
   "cell_type": "markdown",
   "metadata": {},
   "source": [
    "## K-Nearest Neighbors\n",
    "\n",
    "This is one of the simpliest and easiest to understand algorithms. It can be used for both classification and regression tasks, but is more common in classification, so we will focus there. The principles, though, can be used in both cases and sklearn supports both.\n",
    "\n",
    "Basically, here is the algorithm:\n",
    "\n",
    "1. Define k\n",
    "2. Define a distance metric - usually euclidian distance\n",
    "3. For a new data point, find the k nearest training points and combine their classes in some way to get a predicted class\n",
    "\n",
    "That's it!\n",
    "\n",
    "**Some of the benefits:**\n",
    "\n",
    "* Doesn't really require any training in the traditional sense. You just need a fast way to find the nearest neighbors\n",
    "* Easy to understand \n",
    "\n",
    "**Some of the negatives:**\n",
    "\n",
    "* Need to define k, which is a hyper-parameter, so can be tuned with cross-validation. A higher value for k increases bias and a lower value increases variance.\n",
    "* Have to choose a distance metric and could get very different results depending on the metric. Again can use cross-validation.\n",
    "* Doesn't really offer insights into which features might be important.\n",
    "* Can suffer with high dimensional data due to the curse of dimensionality\n",
    "\n",
    "**Basic assumption:**\n",
    "\n",
    "* Data points that are close are similar for our target\n",
    "\n",
    "\n",
    "### Curse of Dimensionality\n",
    "\n",
    "Basically, the curse of dimensionality means that in high dimensions, it is likely that close points are not much closer than average distance, which means being close doesnt mean much. In high dimensions, the data becomes very spread out, which creates this phenomenon. \n",
    "\n",
    "There are so many good resources for this online, that I won't go any deeper. Here is one you might look at:\n",
    "\n",
    "http://blog.galvanize.com/learn/learn-to-code/curse-dimensionality-manage/\n",
    "\n",
    "### Euclidian Distance\n",
    "\n",
    "For vectors, q and p that are being compared (these would be our feature vectors):\n",
    "\n",
    "$$\\sqrt{\\sum_{i=1}^{N}{(p_{i} - q_{i})^2}}$$\n",
    "\n",
    "\n",
    "### SKlearn Example\n",
    "\n"
   ]
  },
  {
   "cell_type": "code",
   "execution_count": null,
   "metadata": {
    "collapsed": true
   },
   "outputs": [],
   "source": []
  }
 ],
 "metadata": {
  "kernelspec": {
   "display_name": "Python 3",
   "language": "python",
   "name": "python3"
  },
  "language_info": {
   "codemirror_mode": {
    "name": "ipython",
    "version": 3
   },
   "file_extension": ".py",
   "mimetype": "text/x-python",
   "name": "python",
   "nbconvert_exporter": "python",
   "pygments_lexer": "ipython3",
   "version": "3.6.1"
  }
 },
 "nbformat": 4,
 "nbformat_minor": 2
}
