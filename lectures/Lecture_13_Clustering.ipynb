{
 "cells": [
  {
   "cell_type": "markdown",
   "metadata": {},
   "source": [
    "## Clustering\n",
    "\n",
    "Up to this point, we have focused on supervised learning - meaning that we have labels for our data that we use to train a model. Another type of machine learning is **unsupervised**. These algorithms work without having labeled data. Obviously, this is a great feature since it eliminates the need to gather labels, but it also comes at the cost of usually being less powerful and needed more manual inspection.\n",
    "\n",
    "## K-Means Clustering\n",
    "\n",
    "Probably the most famous clustering algorithm is k-means. We will start here to illustrate the task of clustering and see an example of how to solve it. \n",
    "\n",
    "The goal of clustering is to discover groups of data within our data where observations within a group are similar to eachother and different from other groups. An example might be market segmentation. Imagine having a bunch of data on customers for your business and you want to discover groups of similar customers. One such group might be high spenders and another group maybe window shoppers. \n",
    "\n",
    "K-means clustering solves this problem by finding **K (hyper-paramter) distinct** clusters in a set of data by using the features of the given data. Let's take a look at an example of some simple data:"
   ]
  },
  {
   "cell_type": "code",
   "execution_count": 1,
   "metadata": {},
   "outputs": [],
   "source": [
    "from sklearn.datasets import load_breast_cancer\n",
    "import numpy as np\n",
    "import matplotlib.pyplot as plt\n",
    "%matplotlib inline\n",
    "import pandas as pd"
   ]
  },
  {
   "cell_type": "code",
   "execution_count": 3,
   "metadata": {},
   "outputs": [
    {
     "data": {
      "text/html": [
       "<div>\n",
       "<style>\n",
       "    .dataframe thead tr:only-child th {\n",
       "        text-align: right;\n",
       "    }\n",
       "\n",
       "    .dataframe thead th {\n",
       "        text-align: left;\n",
       "    }\n",
       "\n",
       "    .dataframe tbody tr th {\n",
       "        vertical-align: top;\n",
       "    }\n",
       "</style>\n",
       "<table border=\"1\" class=\"dataframe\">\n",
       "  <thead>\n",
       "    <tr style=\"text-align: right;\">\n",
       "      <th></th>\n",
       "      <th>Channel</th>\n",
       "      <th>Region</th>\n",
       "      <th>Fresh</th>\n",
       "      <th>Milk</th>\n",
       "      <th>Grocery</th>\n",
       "      <th>Frozen</th>\n",
       "      <th>Detergents_Paper</th>\n",
       "      <th>Delicassen</th>\n",
       "    </tr>\n",
       "  </thead>\n",
       "  <tbody>\n",
       "    <tr>\n",
       "      <th>0</th>\n",
       "      <td>2</td>\n",
       "      <td>3</td>\n",
       "      <td>12669</td>\n",
       "      <td>9656</td>\n",
       "      <td>7561</td>\n",
       "      <td>214</td>\n",
       "      <td>2674</td>\n",
       "      <td>1338</td>\n",
       "    </tr>\n",
       "    <tr>\n",
       "      <th>1</th>\n",
       "      <td>2</td>\n",
       "      <td>3</td>\n",
       "      <td>7057</td>\n",
       "      <td>9810</td>\n",
       "      <td>9568</td>\n",
       "      <td>1762</td>\n",
       "      <td>3293</td>\n",
       "      <td>1776</td>\n",
       "    </tr>\n",
       "    <tr>\n",
       "      <th>2</th>\n",
       "      <td>2</td>\n",
       "      <td>3</td>\n",
       "      <td>6353</td>\n",
       "      <td>8808</td>\n",
       "      <td>7684</td>\n",
       "      <td>2405</td>\n",
       "      <td>3516</td>\n",
       "      <td>7844</td>\n",
       "    </tr>\n",
       "    <tr>\n",
       "      <th>3</th>\n",
       "      <td>1</td>\n",
       "      <td>3</td>\n",
       "      <td>13265</td>\n",
       "      <td>1196</td>\n",
       "      <td>4221</td>\n",
       "      <td>6404</td>\n",
       "      <td>507</td>\n",
       "      <td>1788</td>\n",
       "    </tr>\n",
       "    <tr>\n",
       "      <th>4</th>\n",
       "      <td>2</td>\n",
       "      <td>3</td>\n",
       "      <td>22615</td>\n",
       "      <td>5410</td>\n",
       "      <td>7198</td>\n",
       "      <td>3915</td>\n",
       "      <td>1777</td>\n",
       "      <td>5185</td>\n",
       "    </tr>\n",
       "  </tbody>\n",
       "</table>\n",
       "</div>"
      ],
      "text/plain": [
       "   Channel  Region  Fresh  Milk  Grocery  Frozen  Detergents_Paper  Delicassen\n",
       "0        2       3  12669  9656     7561     214              2674        1338\n",
       "1        2       3   7057  9810     9568    1762              3293        1776\n",
       "2        2       3   6353  8808     7684    2405              3516        7844\n",
       "3        1       3  13265  1196     4221    6404               507        1788\n",
       "4        2       3  22615  5410     7198    3915              1777        5185"
      ]
     },
     "execution_count": 3,
     "metadata": {},
     "output_type": "execute_result"
    }
   ],
   "source": [
    "df = pd.read_csv(\"../small_data/Wholesale customers data.csv\")\n",
    "df.head()"
   ]
  },
  {
   "cell_type": "code",
   "execution_count": 4,
   "metadata": {},
   "outputs": [
    {
     "data": {
      "text/plain": [
       "[<matplotlib.lines.Line2D at 0x117cb4080>]"
      ]
     },
     "execution_count": 4,
     "metadata": {},
     "output_type": "execute_result"
    },
    {
     "data": {
      "image/png": "[encoded data removed]",
      "text/plain": [
       "<matplotlib.figure.Figure at 0x117cb4048>"
      ]
     },
     "metadata": {},
     "output_type": "display_data"
    }
   ],
   "source": [
    "plt.scatter(df['Frozen'], df['Fresh'])\n",
    "plt.xlabel(\"Frozen Spending\")\n",
    "plt.ylabel(\"Fresh Spending\")\n",
    "plt.xlim(0,120000)\n",
    "plt.ylim(0,120000)\n",
    "plt.plot(range(120000), range(120000))"
   ]
  },
  {
   "cell_type": "markdown",
   "metadata": {},
   "source": [
    "Above, we have annual spending for differnt channel/regions on various grocery categories. I have picked fresh and frozen to visualize. We can see that there are regions that prefer to spend more on frozen over fresh and some that much prefer fresh to frozen and a lot that around around equal. How might we cluster these points?\n",
    "\n",
    "K-means solves this problem by trying to minimize the variation within a cluster, specifically we want to minimize the squared distance between all the pairwise points within a cluster. Thus, k-means takes the average squared distance between the points in each cluster and then adds up all of those averages to get the total variation in our clustering. This is the value we want to minimze. The algorithm goes like this:\n",
    "\n",
    "It turns out that solving this minimization exactly is very hard, so we use an algorithm that finds a **local optimum**. The algorithm goes like this:\n",
    "\n",
    "1. Randomly assign a cluster to every data point (1 - K)\n",
    "2. Repeat until converge (cluster assignments stop changing):\n",
    "\n",
    "    a. For every cluster, compute the centroid - the mean value for every feature for the points in that cluster\n",
    "    \n",
    "    b. Assign every point to closest cluster by euclidian distance (squared distance)\n",
    "    \n",
    "This algorithm gaurantees to continue to decrease the total cluster variation until it no longer changes - the local minimum. The fact that it is local also means that the result depends on the original, random inital cluster assignments. Thus, it is valuable to run the algorithm multiple times and choosing the one that best minimizes the total variation.\n",
    "\n",
    "## Raw Python for K-Means Clustering\n",
    "\n",
    "## Practical Tips\n",
    "\n",
    "* How to choose K?\n",
    "* Should you scale data?\n",
    "* How to evaluate?\n",
    "\n",
    "## SKLearn Example"
   ]
  },
  {
   "cell_type": "code",
   "execution_count": 59,
   "metadata": {},
   "outputs": [],
   "source": [
    "from sklearn.metrics.pairwise import euclidean_distances\n",
    "\n",
    "def k_means(k, data):\n",
    "    copy_data = data.copy()\n",
    "    rows, features = copy_data.shape\n",
    "    copy_data['cluster_assignments'] = np.random.randint(0, k, rows)\n",
    "    did_change = 1\n",
    "    while did_change:\n",
    "        centroids = copy_data.groupby('cluster_assignments').mean()\n",
    "        new_assignments = np.argmin(euclidean_distances(data.values[:,:features], centroids.values), 1)\n",
    "        if np.array_equal(copy_data['cluster_assignments'].values, np.array(new_assignments)):\n",
    "            did_change = 0\n",
    "        else:\n",
    "            copy_data['cluster_assignments'] = new_assignments\n",
    "    return copy_data['cluster_assignments'].values"
   ]
  },
  {
   "cell_type": "code",
   "execution_count": 63,
   "metadata": {},
   "outputs": [],
   "source": [
    "clusters = k_means(5, df[['Frozen', 'Fresh']])"
   ]
  },
  {
   "cell_type": "code",
   "execution_count": 64,
   "metadata": {},
   "outputs": [
    {
     "data": {
      "text/plain": [
       "[<matplotlib.lines.Line2D at 0x11a0c6240>]"
      ]
     },
     "execution_count": 64,
     "metadata": {},
     "output_type": "execute_result"
    },
    {
     "data": {
      "image/png": "[encoded data removed]",
      "text/plain": [
       "<matplotlib.figure.Figure at 0x11a0c6278>"
      ]
     },
     "metadata": {},
     "output_type": "display_data"
    }
   ],
   "source": [
    "plt.scatter(df['Frozen'], df['Fresh'], c=clusters)\n",
    "plt.xlabel(\"Frozen Spending\")\n",
    "plt.ylabel(\"Fresh Spending\")\n",
    "plt.xlim(0,120000)\n",
    "plt.ylim(0,120000)\n",
    "plt.plot(range(120000), range(120000))"
   ]
  }
 ],
 "metadata": {
  "kernelspec": {
   "display_name": "Python 3",
   "language": "python",
   "name": "python3"
  },
  "language_info": {
   "codemirror_mode": {
    "name": "ipython",
    "version": 3
   },
   "file_extension": ".py",
   "mimetype": "text/x-python",
   "name": "python",
   "nbconvert_exporter": "python",
   "pygments_lexer": "ipython3",
   "version": "3.6.1"
  }
 },
 "nbformat": 4,
 "nbformat_minor": 2
}
