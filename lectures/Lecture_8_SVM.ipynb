{
 "cells": [
  {
   "cell_type": "markdown",
   "metadata": {},
   "source": [
    "large margin classication - fit largest gap between supports \n",
    "\n",
    "sensitive to data scale \n",
    "\n",
    "hard margin classification - all have to be on one side or the other of gap. sensitve to outliers, only works if linearlly separable\n",
    "\n",
    "soft-margin: more flexible. find balance between keeping gap large and number of instances on wrong side of gap or in the gap. C parameter controls this. Smaller C -> wider gap, but more violations. Reducing C leads to more bias.\n",
    "\n",
    "* Non-linear svm..."
   ]
  },
  {
   "cell_type": "code",
   "execution_count": null,
   "metadata": {
    "collapsed": true
   },
   "outputs": [],
   "source": []
  }
 ],
 "metadata": {
  "kernelspec": {
   "display_name": "Python 3",
   "language": "python",
   "name": "python3"
  },
  "language_info": {
   "codemirror_mode": {
    "name": "ipython",
    "version": 3
   },
   "file_extension": ".py",
   "mimetype": "text/x-python",
   "name": "python",
   "nbconvert_exporter": "python",
   "pygments_lexer": "ipython3",
   "version": "3.6.1"
  }
 },
 "nbformat": 4,
 "nbformat_minor": 2
}
