{
 "cells": [
  {
   "cell_type": "markdown",
   "metadata": {},
   "source": [
    "## Multi-layer perceptron\n",
    "\n",
    "I am not even going to try and write a better intro. to neural nets than this...\n",
    "\n",
    "https://jalammar.github.io/visual-interactive-guide-basics-neural-networks/\n",
    "\n",
    "### Softmax Equation\n",
    "\n",
    "Given an array of values of length n, the softmax of value i in the array is:\n",
    "\n",
    "$$\\frac{e^{i}}{\\sum_{j}^{n}e^{j}}$$"
   ]
  },
  {
   "cell_type": "code",
   "execution_count": 1,
   "metadata": {},
   "outputs": [
    {
     "name": "stdout",
     "output_type": "stream",
     "text": [
      "[0.0, 0.0, 0.02, 0.0, 0.97999999999999998]\n",
      "1.0\n"
     ]
    }
   ],
   "source": [
    "import numpy as np\n",
    "\n",
    "values = np.array([1.0, 3.0, 8.0, 4.0, 12.0])\n",
    "exp_values = np.exp(values)\n",
    "softmax = exp_values / sum(exp_values)\n",
    "print([round(x,2) for x in softmax])\n",
    "print(sum(softmax))"
   ]
  },
  {
   "cell_type": "markdown",
   "metadata": {},
   "source": [
    "## Example using Python"
   ]
  },
  {
   "cell_type": "code",
   "execution_count": 2,
   "metadata": {},
   "outputs": [
    {
     "name": "stderr",
     "output_type": "stream",
     "text": [
      "Using TensorFlow backend.\n"
     ]
    }
   ],
   "source": [
    "from keras.models import Sequential\n",
    "from keras.layers import Dense, Activation\n",
    "from keras.utils import np_utils\n",
    "from keras.datasets import mnist\n",
    "from sklearn.metrics import confusion_matrix\n",
    "from __future__ import division"
   ]
  },
  {
   "cell_type": "code",
   "execution_count": 3,
   "metadata": {},
   "outputs": [
    {
     "name": "stdout",
     "output_type": "stream",
     "text": [
      "Downloading data from https://s3.amazonaws.com/img-datasets/mnist.npz\n",
      "11476992/11490434 [============================>.] - ETA: 0s"
     ]
    }
   ],
   "source": [
    "(x_train, y_train), (x_test, y_test) = mnist.load_data()\n",
    "\n",
    "y_train = np_utils.to_categorical(y_train, 10)\n",
    "y_test = np_utils.to_categorical(y_test, 10)\n",
    "\n",
    "def vectorize_image(images):\n",
    "    scaled_images = images / 255\n",
    "    return images.reshape(scaled_images.shape[0],-1)\n",
    "\n",
    "x_train = vectorize_image(x_train)\n",
    "x_test = vectorize_image(x_test)"
   ]
  },
  {
   "cell_type": "code",
   "execution_count": 4,
   "metadata": {},
   "outputs": [],
   "source": [
    "model = Sequential([\n",
    "    Dense(128, input_shape=(784,)),\n",
    "    Dense(10),\n",
    "    Activation('softmax'),\n",
    "])"
   ]
  },
  {
   "cell_type": "code",
   "execution_count": 5,
   "metadata": {},
   "outputs": [],
   "source": [
    "model.compile(optimizer='adam',\n",
    "              loss='categorical_crossentropy')"
   ]
  },
  {
   "cell_type": "code",
   "execution_count": 10,
   "metadata": {},
   "outputs": [
    {
     "name": "stdout",
     "output_type": "stream",
     "text": [
      "Train on 48000 samples, validate on 12000 samples\n",
      "Epoch 1/5\n",
      "48000/48000 [==============================] - 3s - loss: 9.4580 - val_loss: 9.0465\n",
      "Epoch 2/5\n",
      "48000/48000 [==============================] - 3s - loss: 9.0614 - val_loss: 9.0640\n",
      "Epoch 3/5\n",
      "48000/48000 [==============================] - 3s - loss: 8.8027 - val_loss: 8.8266\n",
      "Epoch 4/5\n",
      "48000/48000 [==============================] - 7s - loss: 8.7975 - val_loss: 8.6742\n",
      "Epoch 5/5\n",
      "48000/48000 [==============================] - 7s - loss: 8.5632 - val_loss: 8.9147\n"
     ]
    },
    {
     "data": {
      "text/plain": [
       "<keras.callbacks.History at 0x132172828>"
      ]
     },
     "execution_count": 10,
     "metadata": {},
     "output_type": "execute_result"
    }
   ],
   "source": [
    "model.fit(x_train, y_train, epochs=5, batch_size=32, validation_split=0.2)"
   ]
  },
  {
   "cell_type": "code",
   "execution_count": 11,
   "metadata": {},
   "outputs": [],
   "source": [
    "test_predictions = np.argmax(model.predict(x_test),1)\n",
    "y_test_sparse = np.argmax(y_test, 1)"
   ]
  },
  {
   "cell_type": "code",
   "execution_count": 12,
   "metadata": {},
   "outputs": [
    {
     "data": {
      "text/plain": [
       "array([[ 970,    0,    9,    1,    0,    0,    0,    0,    0,    0],\n",
       "       [   2, 1058,   66,    8,    0,    0,    0,    0,    0,    1],\n",
       "       [  62,    5,  938,   16,    0,    0,    0,    0,    0,   11],\n",
       "       [ 107,    3,  134,  755,    0,    0,    0,    0,    0,   11],\n",
       "       [ 118,   37,   19,   10,    0,    0,    0,    0,    0,  798],\n",
       "       [ 532,   49,   46,  236,    0,    0,    0,    0,    0,   29],\n",
       "       [ 569,   14,  340,    2,    0,    0,    0,    0,    0,   33],\n",
       "       [ 152,   59,   88,  109,    0,    0,    0,    0,    0,  620],\n",
       "       [ 354,   65,  133,  312,    0,    1,    0,    0,    0,  109],\n",
       "       [  75,   13,    4,   25,    0,    0,    0,    0,    0,  892]])"
      ]
     },
     "execution_count": 12,
     "metadata": {},
     "output_type": "execute_result"
    }
   ],
   "source": [
    "confusion_matrix(y_test_sparse, test_predictions)"
   ]
  },
  {
   "cell_type": "code",
   "execution_count": 13,
   "metadata": {},
   "outputs": [
    {
     "data": {
      "text/plain": [
       "array([ 0.4613])"
      ]
     },
     "execution_count": 13,
     "metadata": {},
     "output_type": "execute_result"
    }
   ],
   "source": [
    "np.sum(y_test_sparse == test_predictions) / test_predictions.shape"
   ]
  }
 ],
 "metadata": {
  "kernelspec": {
   "display_name": "Python 3",
   "language": "python",
   "name": "python3"
  },
  "language_info": {
   "codemirror_mode": {
    "name": "ipython",
    "version": 3
   },
   "file_extension": ".py",
   "mimetype": "text/x-python",
   "name": "python",
   "nbconvert_exporter": "python",
   "pygments_lexer": "ipython3",
   "version": "3.6.1"
  }
 },
 "nbformat": 4,
 "nbformat_minor": 1
}
