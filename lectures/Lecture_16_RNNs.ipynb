{
 "cells": [
  {
   "cell_type": "markdown",
   "metadata": {},
   "source": [
    "## Recurrent Neural Networks\n",
    "\n",
    "Recurrent neural networks - or RNNs - are built specifically to deal with sequence data. For example, suppose you have a sequence of text of movie reviews and would like to classify their sentiment, or a sequence of stock prices and you would like to predict the next one. These are all tasks well suited for an RNN.\n",
    "\n",
    "To better understand, let's take a look at this blog post:\n",
    "\n",
    "http://colah.github.io/posts/2015-08-Understanding-LSTMs/\n",
    "\n",
    "RNN's can take many different forms:\n",
    "\n",
    "* Sequence of inputs to sequence of outputs\n",
    "* Sequence of inputs to vector of output\n",
    "* Vector of input to sequence of outps\n",
    "* Encoder -> Decoder\n",
    "\n",
    "We can take a closer look on p. 384 of Hands on Machine Learning\n",
    "\n",
    "## Variable length sequences\n",
    "\n",
    "If you have variable length inputs, like movie reviews which differ in length. A decent technique is to pick a fairly large input sequence length and zero padd all the inputs which are smaller. See here:\n",
    "\n",
    "https://github.com/keras-team/keras/issues/40\n",
    "\n",
    "If you have variable length output sequences - for example, when generating text. You can define a special end of sequence tag such as <EOS> and ignore any output past that tag.\n",
    "\n",
    "\n",
    "## Issues with RNNs:\n",
    "\n",
    "* Vanishing/Exploding gradients\n",
    "* Take a long time to train\n",
    "* Memory of first inputs tends to fad away making their long-term memory weak\n",
    "\n",
    "## LSTM\n",
    "\n",
    "* Much more capable of learning long-term dependencies\n",
    "* Same structure as vanilla RNN, but has 4 neural networks inside\n",
    "* Has two states which are passed to the next part of the sequence\n",
    "* The first state is the **cell state** and only has small changes made to it and thus it is very easy for information to be passed forward.\n",
    "* The first change we can make to the cell state is remove information from it. This is done with a **forget gate.** The forget gate is a fully connected neural net where the input is the concat of previous hidden state (not the cell state) and the sequence input. It is activated with a sigmoid and thus gives values from zero to one. A 1 means keep all the information.\n",
    "* The second change we make to the cell state is decide which information should be added. To do this, we take the combined hidden and input and feed it through another fully connected layer activated by a sigmoid - this is the **input gate.** We also take this combined input and feed it through what I will call the **tanh gate.** This gate is a fully connected layer activated by a tanh function - like sigmoid but ranges from -1 to 1. We then combine these two gates output with pointwise multiplication - basically the input gate tells how much information to keep from the tanh gate.\n",
    "* Now that we have our forget and remember values we will take the incoming cell state and multiply it by the forget values and add in the remember values.\n",
    "* Lastly, we need to decide what to output which will also be our hidden state we carry forward.\n",
    "* First, we take the combined input and hidden state through what I will call the **output gate.** This is a fully connected layer activated by a sigmoid.\n",
    "* Then, we take the updated cell value and pass it through a tanh to force its values to range from -1 to 1 and multiply these values by the output gate - the output gate telling us what to keep.\n",
    "* We carry this value forward as the hidden state and pass it through a softmax and a final fully connected layer to get our output.\n",
    "\n",
    "## GRU\n",
    "\n",
    "GRU is basically a simplified version of an LSTM that seems to perform just as well for most tasks and thus has been growing in popularity. To learn more about it take a look at the blog post or p. 406 of Hands on Machine learning.\n",
    "\n",
    "There are also many other RNN architectures that we don't metion here.\n",
    "\n",
    "## Word Embeddings\n",
    "\n",
    "A very interesting challenge in NLP is: how do we represent the meaning of a word to a computer? One idea might be to reprsent words as a sparse vector the size of your vocabulary where each vector is all zeros except for a one at the appropriate index for that word. This has some pretty obvious drawbacks. One, it is very large. Two, is it really has no notion of how words are similar in their meanings.\n",
    "\n",
    "One way we have solved some portion of these problems is by learning dense word embeddings. These embeddings - or vectors - should encode the meaning of a word sufficiently enough that we can hopefully compare vectors.\n",
    "\n",
    "A technique to do this - there are many - is called **Continuous Bag-of-Words (CBOW)**. Also, referred to as word2vec, though, there is another flavor of word2vec. The idea is to use the context of a word as features to predict the target word.\n",
    "\n",
    "What is the context? Simple - the words surrounding the target word. Usually, around +-2 words. You then define how big of a dimension you want for your embeddings - say 128.\n",
    "\n",
    "Then, you train a neural network to find the best 128 dimension embeddings using the context words to predict the target word.\n",
    "\n",
    "Note: an embedding is just a fancy name for a look-up table. An embedding takes in an index (for example, 1) and returns the vector it finds at that index, which in our example would be of size 128. The embedding table should have the same number of rows as vocabulary words.\n",
    "\n",
    "And like anything involving gradient descent, our embeddings will basically start off with random numbers and we will use gradient descent to optimize them given our training data.\n",
    "\n",
    "Let's see some code motiviated by the following (also see p.407 of hands on machine learning):\n",
    "\n",
    "http://pytorch.org/tutorials/beginner/nlp/word_embeddings_tutorial.html\n",
    "\n",
    "https://github.com/FraLotito/continuous-bag-of-words\n",
    "\n",
    "## CBOW Pytorch Example"
   ]
  },
  {
   "cell_type": "code",
   "execution_count": 1,
   "metadata": {},
   "outputs": [],
   "source": [
    "import torch\n",
    "import torch.nn as nn\n",
    "from torch.autograd import Variable\n",
    "import numpy as np\n",
    "import time\n",
    "import math\n",
    "import matplotlib.pyplot as plt\n",
    "import torch.optim as optim\n",
    "from collections import defaultdict\n",
    "import torch.distributions as distributions\n",
    "import pandas as pd\n",
    "from collections import Counter\n",
    "%matplotlib inline"
   ]
  },
  {
   "cell_type": "code",
   "execution_count": 2,
   "metadata": {},
   "outputs": [],
   "source": [
    "def make_data(tweets):\n",
    "    data = []\n",
    "    for tweet in tweets:\n",
    "        tokens = tweet.split(\" \")\n",
    "        for i in range(2, len(tokens) - 2):\n",
    "            context = [tokens[i - 2], tokens[i - 1],\n",
    "                       tokens[i + 1], tokens[i + 2]]\n",
    "            target = tokens[i]\n",
    "            data.append((context, target))\n",
    "    return data\n",
    "\n",
    "def timeSince(since):\n",
    "    now = time.time()\n",
    "    s = now - since\n",
    "    m = math.floor(s / 60)\n",
    "    s -= m * 60\n",
    "    return '%dm %ds' % (m, s)"
   ]
  },
  {
   "cell_type": "code",
   "execution_count": 54,
   "metadata": {},
   "outputs": [
    {
     "data": {
      "text/plain": [
       "'And so the robots spared humanity ... https://t.co/v7JUJQWfCv'"
      ]
     },
     "execution_count": 54,
     "metadata": {},
     "output_type": "execute_result"
    }
   ],
   "source": [
    "df = pd.DataFrame.from_csv(\"../small_data/elonmusk_tweets.csv\")\n",
    "tweets = df.text.values\n",
    "tweets = [t[2:-1] for t in tweets]\n",
    "tweets[0]"
   ]
  },
  {
   "cell_type": "code",
   "execution_count": 55,
   "metadata": {},
   "outputs": [
    {
     "data": {
      "text/plain": [
       "[(['And', 'so', 'robots', 'spared'], 'the'),\n",
       " (['so', 'the', 'spared', 'humanity'], 'robots'),\n",
       " (['the', 'robots', 'humanity', '...'], 'spared')]"
      ]
     },
     "execution_count": 55,
     "metadata": {},
     "output_type": "execute_result"
    }
   ],
   "source": [
    "data = make_data(tweets)\n",
    "data[:3]"
   ]
  },
  {
   "cell_type": "code",
   "execution_count": 90,
   "metadata": {},
   "outputs": [
    {
     "data": {
      "text/plain": [
       "30603"
      ]
     },
     "execution_count": 90,
     "metadata": {},
     "output_type": "execute_result"
    }
   ],
   "source": [
    "len(data)"
   ]
  },
  {
   "cell_type": "code",
   "execution_count": 65,
   "metadata": {},
   "outputs": [
    {
     "name": "stdout",
     "output_type": "stream",
     "text": [
      "1216\n"
     ]
    }
   ],
   "source": [
    "words = [w for t in tweets for w in t.split()]\n",
    "common_words = [w for w,c in Counter(words).most_common() if c >=5]\n",
    "vocab = set(common_words)\n",
    "word_to_ix = {word: i for i, word in enumerate(vocab)}\n",
    "print(len(common_words))"
   ]
  },
  {
   "cell_type": "code",
   "execution_count": 79,
   "metadata": {},
   "outputs": [],
   "source": [
    "def get_word_index(word):\n",
    "    if word in word_to_ix:\n",
    "        return word_to_ix[word]\n",
    "    else:\n",
    "        return len(word_to_ix)\n",
    "    \n",
    "def make_context_vector(context, get_word_index):\n",
    "    idxs = [get_word_index(w) for w in context]\n",
    "    tensor = torch.LongTensor(idxs)\n",
    "    return Variable(tensor)"
   ]
  },
  {
   "cell_type": "code",
   "execution_count": 80,
   "metadata": {},
   "outputs": [],
   "source": [
    "class CBOW(nn.Module):\n",
    "\n",
    "\n",
    "    def __init__(self, vocab_size, embedding_dim, hidden_dim):\n",
    "        super(CBOW, self).__init__()\n",
    "\n",
    "        self.embeddings = nn.Embedding(vocab_size, embedding_dim)\n",
    "        self.linear1 = nn.Linear(embedding_dim, hidden_dim)\n",
    "        self.relu = nn.ReLU()\n",
    "        self.linear2 = nn.Linear(hidden_dim, vocab_size)\n",
    "        self.log_softmax = nn.LogSoftmax()\n",
    "\n",
    "\n",
    "    def forward(self, inputs):\n",
    "        ## view changes the size to be one row\n",
    "        embeds = sum(self.embeddings(inputs)).view(1,-1)\n",
    "        out = self.linear1(embeds)\n",
    "        out = self.relu(out)\n",
    "        out = self.linear2(out)\n",
    "        out = self.log_softmax(out)\n",
    "        return out\n",
    "    \n",
    "\n",
    "    def get_word_emdedding(self, word):\n",
    "        word = Variable(torch.LongTensor([word_to_ix[word]]))\n",
    "        return self.embeddings(word).view(1,-1)"
   ]
  },
  {
   "cell_type": "code",
   "execution_count": 86,
   "metadata": {},
   "outputs": [],
   "source": [
    "cbow = CBOW(len(vocab)+1, 100, 128)\n",
    "\n",
    "criterion = nn.NLLLoss()\n",
    "optimizer = optim.Adam(cbow.parameters(), lr=.001)"
   ]
  },
  {
   "cell_type": "code",
   "execution_count": 87,
   "metadata": {},
   "outputs": [],
   "source": [
    "def train_cbow(context, target):\n",
    "    context_vector = make_context_vector(context, get_word_index)  \n",
    "    model.zero_grad()\n",
    "    log_probs = cbow(context_vector)\n",
    "    loss = criterion(log_probs, Variable(\n",
    "        torch.LongTensor([get_word_index(target)])))\n",
    "    loss.backward()\n",
    "    optimizer.step()\n",
    "    return loss.data"
   ]
  },
  {
   "cell_type": "code",
   "execution_count": 93,
   "metadata": {},
   "outputs": [
    {
     "name": "stderr",
     "output_type": "stream",
     "text": [
      "/home/tyler/anaconda3/lib/python3.6/site-packages/ipykernel_launcher.py:20: UserWarning: Implicit dimension choice for log_softmax has been deprecated. Change the call to include dim=X as an argument.\n"
     ]
    },
    {
     "ename": "KeyboardInterrupt",
     "evalue": "",
     "output_type": "error",
     "traceback": [
      "\u001b[0;31m---------------------------------------------------------------------------\u001b[0m",
      "\u001b[0;31mKeyboardInterrupt\u001b[0m                         Traceback (most recent call last)",
      "\u001b[0;32m<ipython-input-93-ed42e8c7b03f>\u001b[0m in \u001b[0;36m<module>\u001b[0;34m()\u001b[0m\n\u001b[1;32m      9\u001b[0m \u001b[0;32mfor\u001b[0m \u001b[0miter\u001b[0m \u001b[0;32min\u001b[0m \u001b[0mrange\u001b[0m\u001b[0;34m(\u001b[0m\u001b[0;36m1\u001b[0m\u001b[0;34m,\u001b[0m \u001b[0mn_epochs\u001b[0m \u001b[0;34m+\u001b[0m \u001b[0;36m1\u001b[0m\u001b[0;34m)\u001b[0m\u001b[0;34m:\u001b[0m\u001b[0;34m\u001b[0m\u001b[0m\n\u001b[1;32m     10\u001b[0m     \u001b[0;32mfor\u001b[0m \u001b[0mcontext\u001b[0m\u001b[0;34m,\u001b[0m \u001b[0mtarget\u001b[0m \u001b[0;32min\u001b[0m \u001b[0mdata\u001b[0m\u001b[0;34m:\u001b[0m\u001b[0;34m\u001b[0m\u001b[0m\n\u001b[0;32m---> 11\u001b[0;31m         \u001b[0mloss\u001b[0m \u001b[0;34m=\u001b[0m \u001b[0mtrain_cbow\u001b[0m\u001b[0;34m(\u001b[0m\u001b[0mcontext\u001b[0m\u001b[0;34m,\u001b[0m \u001b[0mtarget\u001b[0m\u001b[0;34m)\u001b[0m\u001b[0;34m\u001b[0m\u001b[0m\n\u001b[0m\u001b[1;32m     12\u001b[0m         \u001b[0mtotal_loss\u001b[0m \u001b[0;34m+=\u001b[0m \u001b[0mloss\u001b[0m\u001b[0;34m\u001b[0m\u001b[0m\n\u001b[1;32m     13\u001b[0m \u001b[0;34m\u001b[0m\u001b[0m\n",
      "\u001b[0;32m<ipython-input-87-7208a44f0e07>\u001b[0m in \u001b[0;36mtrain_cbow\u001b[0;34m(context, target)\u001b[0m\n\u001b[1;32m      6\u001b[0m         torch.LongTensor([get_word_index(target)])))\n\u001b[1;32m      7\u001b[0m     \u001b[0mloss\u001b[0m\u001b[0;34m.\u001b[0m\u001b[0mbackward\u001b[0m\u001b[0;34m(\u001b[0m\u001b[0;34m)\u001b[0m\u001b[0;34m\u001b[0m\u001b[0m\n\u001b[0;32m----> 8\u001b[0;31m     \u001b[0moptimizer\u001b[0m\u001b[0;34m.\u001b[0m\u001b[0mstep\u001b[0m\u001b[0;34m(\u001b[0m\u001b[0;34m)\u001b[0m\u001b[0;34m\u001b[0m\u001b[0m\n\u001b[0m\u001b[1;32m      9\u001b[0m     \u001b[0;32mreturn\u001b[0m \u001b[0mloss\u001b[0m\u001b[0;34m.\u001b[0m\u001b[0mdata\u001b[0m\u001b[0;34m\u001b[0m\u001b[0m\n",
      "\u001b[0;32m/home/tyler/anaconda3/lib/python3.6/site-packages/torch/optim/adam.py\u001b[0m in \u001b[0;36mstep\u001b[0;34m(self, closure)\u001b[0m\n\u001b[1;32m     67\u001b[0m \u001b[0;34m\u001b[0m\u001b[0m\n\u001b[1;32m     68\u001b[0m                 \u001b[0;31m# Decay the first and second moment running average coefficient\u001b[0m\u001b[0;34m\u001b[0m\u001b[0;34m\u001b[0m\u001b[0m\n\u001b[0;32m---> 69\u001b[0;31m                 \u001b[0mexp_avg\u001b[0m\u001b[0;34m.\u001b[0m\u001b[0mmul_\u001b[0m\u001b[0;34m(\u001b[0m\u001b[0mbeta1\u001b[0m\u001b[0;34m)\u001b[0m\u001b[0;34m.\u001b[0m\u001b[0madd_\u001b[0m\u001b[0;34m(\u001b[0m\u001b[0;36m1\u001b[0m \u001b[0;34m-\u001b[0m \u001b[0mbeta1\u001b[0m\u001b[0;34m,\u001b[0m \u001b[0mgrad\u001b[0m\u001b[0;34m)\u001b[0m\u001b[0;34m\u001b[0m\u001b[0m\n\u001b[0m\u001b[1;32m     70\u001b[0m                 \u001b[0mexp_avg_sq\u001b[0m\u001b[0;34m.\u001b[0m\u001b[0mmul_\u001b[0m\u001b[0;34m(\u001b[0m\u001b[0mbeta2\u001b[0m\u001b[0;34m)\u001b[0m\u001b[0;34m.\u001b[0m\u001b[0maddcmul_\u001b[0m\u001b[0;34m(\u001b[0m\u001b[0;36m1\u001b[0m \u001b[0;34m-\u001b[0m \u001b[0mbeta2\u001b[0m\u001b[0;34m,\u001b[0m \u001b[0mgrad\u001b[0m\u001b[0;34m,\u001b[0m \u001b[0mgrad\u001b[0m\u001b[0;34m)\u001b[0m\u001b[0;34m\u001b[0m\u001b[0m\n\u001b[1;32m     71\u001b[0m \u001b[0;34m\u001b[0m\u001b[0m\n",
      "\u001b[0;31mKeyboardInterrupt\u001b[0m: "
     ]
    }
   ],
   "source": [
    "n_epochs = 1\n",
    "print_every = 1000\n",
    "plot_every = 1000\n",
    "all_losses = []\n",
    "total_loss = 0 # Reset every plot_every iters\n",
    "\n",
    "start = time.time()\n",
    "\n",
    "for iter in range(1, n_epochs + 1):\n",
    "    for context, target in data:\n",
    "        loss = train_cbow(context, target)\n",
    "        total_loss += loss\n",
    "\n",
    "        if iter % print_every == 0:\n",
    "            print('%s (%d %d%%) %.4f' % (timeSince(start), iter, iter / n_iters * 100, loss))\n",
    "\n",
    "        if iter % plot_every == 0:\n",
    "            all_losses.append(total_loss / plot_every)\n",
    "            total_loss = 0"
   ]
  },
  {
   "cell_type": "markdown",
   "metadata": {},
   "source": [
    "## Encoder-Decoder"
   ]
  },
  {
   "cell_type": "markdown",
   "metadata": {},
   "source": [
    "## Example of RNN and LSTM using pytorch\n",
    "\n",
    "Source: http://pytorch.org/tutorials/intermediate/char_rnn_generation_tutorial.html#sphx-glr-intermediate-char-rnn-generation-tutorial-py"
   ]
  },
  {
   "cell_type": "code",
   "execution_count": 3,
   "metadata": {},
   "outputs": [],
   "source": [
    "female_names = []\n",
    "name_weights = []\n",
    "for year in range(2000,2017):\n",
    "    with open(\"../small_data/baby_names/yob{}.txt\".format(year), \"r\") as f:\n",
    "        for line in f:\n",
    "            columns = line.split(\",\")\n",
    "            if columns[1] == 'F':\n",
    "                female_names.append(columns[0])\n",
    "                name_weights.append(int(columns[2].strip()))"
   ]
  },
  {
   "cell_type": "code",
   "execution_count": 4,
   "metadata": {},
   "outputs": [
    {
     "data": {
      "text/plain": [
       "['Emily', 'Hannah', 'Madison', 'Ashley', 'Sarah']"
      ]
     },
     "execution_count": 4,
     "metadata": {},
     "output_type": "execute_result"
    }
   ],
   "source": [
    "female_names[:5]"
   ]
  },
  {
   "cell_type": "code",
   "execution_count": 5,
   "metadata": {},
   "outputs": [
    {
     "name": "stdout",
     "output_type": "stream",
     "text": [
      "326418\n"
     ]
    }
   ],
   "source": [
    "n_names = len(female_names)\n",
    "print(n_names)"
   ]
  },
  {
   "cell_type": "code",
   "execution_count": 6,
   "metadata": {},
   "outputs": [
    {
     "data": {
      "text/plain": [
       "[25953, 23078, 19967, 17996, 17691]"
      ]
     },
     "execution_count": 6,
     "metadata": {},
     "output_type": "execute_result"
    }
   ],
   "source": [
    "name_weights[:5]"
   ]
  },
  {
   "cell_type": "code",
   "execution_count": 7,
   "metadata": {},
   "outputs": [],
   "source": [
    "unique_names_weights = defaultdict(int)\n",
    "for i in range(n_names):\n",
    "    name = female_names[i]\n",
    "    weight = name_weights[i]\n",
    "    unique_names_weights[name] = unique_names_weights[name] + weight"
   ]
  },
  {
   "cell_type": "code",
   "execution_count": 8,
   "metadata": {},
   "outputs": [],
   "source": [
    "unique_names = list(unique_names_weights.keys())\n",
    "unique_weights = list(unique_names_weights.values())\n",
    "unique_probabilities = np.array(unique_weights) / sum(unique_weights)"
   ]
  },
  {
   "cell_type": "code",
   "execution_count": 9,
   "metadata": {},
   "outputs": [],
   "source": [
    "class RNN(nn.Module):\n",
    "    def __init__(self, input_size, hidden_size, output_size):\n",
    "        super(RNN, self).__init__()\n",
    "        self.hidden_size = hidden_size\n",
    "\n",
    "        self.i2h = nn.Linear(input_size + hidden_size, hidden_size)\n",
    "        self.i2o = nn.Linear(input_size + hidden_size, output_size)\n",
    "        self.o2o = nn.Linear(hidden_size + output_size, output_size)\n",
    "        self.dropout = nn.Dropout(0.1)\n",
    "        self.softmax = nn.LogSoftmax(dim=1)\n",
    "\n",
    "    def forward(self, input, hidden):\n",
    "        input_combined = torch.cat((input, hidden), 1)\n",
    "        hidden = self.i2h(input_combined)\n",
    "        output = self.i2o(input_combined)\n",
    "        output_combined = torch.cat((hidden, output), 1)\n",
    "        output = self.o2o(output_combined)\n",
    "        output = self.dropout(output)\n",
    "        output = self.softmax(output)\n",
    "        return output, hidden\n",
    "\n",
    "    def initHidden(self):\n",
    "        return Variable(torch.zeros(1, self.hidden_size))\n",
    "    \n",
    "class LSTM(nn.Module):\n",
    "    def __init__(self, input_size, hidden_size, output_size):\n",
    "        super(LSTM, self).__init__()\n",
    "        self.hidden_size = hidden_size\n",
    "\n",
    "        self.forget_gate = nn.Linear(input_size + hidden_size, hidden_size)\n",
    "        self.input_gate = nn.Linear(input_size + hidden_size, hidden_size)\n",
    "        self.tanh_gate = nn.Linear(input_size + hidden_size, hidden_size)\n",
    "        self.output_gate = nn.Linear(input_size + hidden_size, hidden_size)\n",
    "        \n",
    "        self.result_gate = nn.Linear(hidden_size, output_size)\n",
    "\n",
    "        self.softmax = nn.Softmax()\n",
    "        self.sigmoid = nn.Sigmoid()\n",
    "        self.tanh = nn.Tanh()\n",
    "\n",
    "    def forward(self, input, hidden, cell):\n",
    "        input_combined = torch.cat((input, hidden), 1)\n",
    "        \n",
    "        forget_gate_value = self.sigmoid(self.forget_gate(input_combined))\n",
    "        input_gate_value = self.sigmoid(self.input_gate(input_combined))\n",
    "        tanh_gate_value = self.tanh(self.tanh_gate(input_combined))\n",
    "        output_gate_value = self.sigmoid(self.output_gate(input_combined))\n",
    "        \n",
    "        input_tanh_combined = input_gate_value * tanh_gate_value\n",
    "        \n",
    "        cell_next = cell * forget_gate_value + input_tanh_combined\n",
    "        hidden_next = self.tanh(cell_next) * output_gate_value\n",
    "        output = self.result_gate(hidden_next)\n",
    "\n",
    "        return output, hidden_next, cell_next\n",
    "\n",
    "    def initHidden(self):\n",
    "        return Variable(torch.zeros(1, self.hidden_size))"
   ]
  },
  {
   "cell_type": "code",
   "execution_count": 10,
   "metadata": {},
   "outputs": [],
   "source": [
    "letters = set([c.lower() for name in female_names for c in name])\n",
    "letters_to_index = {l:i for i,l in enumerate(letters)}\n",
    "index_to_letter = {i:l for l, i in letters_to_index.items()}"
   ]
  },
  {
   "cell_type": "code",
   "execution_count": 11,
   "metadata": {},
   "outputs": [],
   "source": [
    "n_letters = len(letters) + 1"
   ]
  },
  {
   "cell_type": "code",
   "execution_count": 12,
   "metadata": {},
   "outputs": [],
   "source": [
    "def inputTensor(line):\n",
    "    tensor = torch.zeros(len(line), 1, n_letters)\n",
    "    for li in range(len(line)):\n",
    "        letter = line[li].lower()\n",
    "        tensor[li][0][letters_to_index[letter]] = 1\n",
    "    return tensor\n",
    "\n",
    "def targetTensor(line):\n",
    "    letter_indexes = [letters_to_index[line[li].lower()] for li in range(1, len(line))]\n",
    "    letter_indexes.append(n_letters - 1) # EOS\n",
    "    return torch.LongTensor(letter_indexes)\n",
    "\n",
    "def randomTrainingPair():\n",
    "    return np.random.choice(unique_names, p=unique_probabilities, size=1)[0]\n",
    "\n",
    "def randomTrainingExample():\n",
    "    line = randomTrainingPair()\n",
    "    input_line_tensor = Variable(inputTensor(line))\n",
    "    target_line_tensor = Variable(targetTensor(line))\n",
    "    return input_line_tensor, target_line_tensor"
   ]
  },
  {
   "cell_type": "code",
   "execution_count": 13,
   "metadata": {},
   "outputs": [],
   "source": [
    "criterion = nn.CrossEntropyLoss()\n",
    "lstm = LSTM(n_letters, 128, n_letters)\n",
    "\n",
    "optimizer = optim.Adam(lstm.parameters(), lr=.001)\n",
    "\n",
    "def train(input_line_tensor, target_line_tensor):\n",
    "    hidden = lstm.initHidden()\n",
    "    cell = lstm.initHidden()\n",
    "\n",
    "    optimizer.zero_grad()\n",
    "\n",
    "    loss = 0\n",
    "\n",
    "    for i in range(input_line_tensor.size()[0]):\n",
    "        output, hidden, cell = lstm(input_line_tensor[i], hidden, cell)\n",
    "        loss += criterion(output, target_line_tensor[i])\n",
    "\n",
    "    loss.backward()\n",
    "\n",
    "    optimizer.step()\n",
    "\n",
    "    return output, loss.data[0] / input_line_tensor.size()[0]"
   ]
  },
  {
   "cell_type": "code",
   "execution_count": 14,
   "metadata": {},
   "outputs": [
    {
     "name": "stdout",
     "output_type": "stream",
     "text": [
      "1m 27s (5000 25%) 2.0953\n",
      "3m 21s (10000 50%) 0.7251\n",
      "5m 16s (15000 75%) 0.8468\n",
      "7m 20s (20000 100%) 1.3765\n"
     ]
    }
   ],
   "source": [
    "n_iters = 20000\n",
    "print_every = 5000\n",
    "plot_every = 500\n",
    "all_losses = []\n",
    "total_loss = 0 # Reset every plot_every iters\n",
    "\n",
    "start = time.time()\n",
    "\n",
    "for iter in range(1, n_iters + 1):\n",
    "    output, loss = train(*randomTrainingExample())\n",
    "    total_loss += loss\n",
    "\n",
    "    if iter % print_every == 0:\n",
    "        print('%s (%d %d%%) %.4f' % (timeSince(start), iter, iter / n_iters * 100, loss))\n",
    "\n",
    "    if iter % plot_every == 0:\n",
    "        all_losses.append(total_loss / plot_every)\n",
    "        total_loss = 0"
   ]
  },
  {
   "cell_type": "code",
   "execution_count": 15,
   "metadata": {},
   "outputs": [
    {
     "data": {
      "text/plain": [
       "[<matplotlib.lines.Line2D at 0x104e02208>]"
      ]
     },
     "execution_count": 15,
     "metadata": {},
     "output_type": "execute_result"
    },
    {
     "data": {
      "image/png": "[encoded data removed]",
      "text/plain": [
       "<matplotlib.figure.Figure at 0x1151ff048>"
      ]
     },
     "metadata": {},
     "output_type": "display_data"
    }
   ],
   "source": [
    "plt.plot(all_losses)"
   ]
  },
  {
   "cell_type": "code",
   "execution_count": 16,
   "metadata": {},
   "outputs": [],
   "source": [
    "max_length = 20\n",
    "\n",
    "# Sample from a category and starting letter\n",
    "def sample(start_letter='A'):\n",
    "    input = Variable(inputTensor(start_letter))\n",
    "    hidden = lstm.initHidden()\n",
    "    cell = lstm.initHidden()\n",
    "\n",
    "    output_name = start_letter\n",
    "\n",
    "    for i in range(max_length):\n",
    "        output, hidden, cell = lstm(input[0], hidden, cell)\n",
    "        sm = nn.Softmax(dim=1)\n",
    "        softmax_out = sm(Variable(output.data)).data.numpy()[0]\n",
    "        topi = np.random.choice(range(len(softmax_out)), p=softmax_out)\n",
    "        if topi == n_letters - 1:\n",
    "            break\n",
    "        else:\n",
    "            letter = index_to_letter[topi]\n",
    "            output_name += letter\n",
    "        input = Variable(inputTensor(letter))\n",
    "\n",
    "    return output_name"
   ]
  },
  {
   "cell_type": "code",
   "execution_count": 146,
   "metadata": {},
   "outputs": [
    {
     "data": {
      "text/plain": [
       "'Elizabeth'"
      ]
     },
     "execution_count": 146,
     "metadata": {},
     "output_type": "execute_result"
    }
   ],
   "source": [
    "sample('E')"
   ]
  },
  {
   "cell_type": "code",
   "execution_count": null,
   "metadata": {},
   "outputs": [],
   "source": []
  },
  {
   "cell_type": "code",
   "execution_count": null,
   "metadata": {},
   "outputs": [],
   "source": []
  }
 ],
 "metadata": {
  "kernelspec": {
   "display_name": "Python 3",
   "language": "python",
   "name": "python3"
  },
  "language_info": {
   "codemirror_mode": {
    "name": "ipython",
    "version": 3
   },
   "file_extension": ".py",
   "mimetype": "text/x-python",
   "name": "python",
   "nbconvert_exporter": "python",
   "pygments_lexer": "ipython3",
   "version": "3.5.3"
  }
 },
 "nbformat": 4,
 "nbformat_minor": 2
}
